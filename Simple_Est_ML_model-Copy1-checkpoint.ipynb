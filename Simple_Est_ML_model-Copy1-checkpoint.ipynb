{
 "cells": [
  {
   "cell_type": "code",
   "execution_count": 7,
   "id": "d33a80e2",
   "metadata": {},
   "outputs": [],
   "source": [
    "import numpy as np\n",
    "import pandas as pd\n",
    "\n",
    "\n",
    "from sklearn.metrics import mean_squared_error\n",
    "from sklearn.preprocessing import MinMaxScaler\n",
    "from sklearn.model_selection import train_test_split\n",
    "from sklearn.linear_model import LinearRegression, Ridge, Lasso\n",
    "from sklearn.ensemble import RandomForestRegressor\n",
    "from sklearn.model_selection import GridSearchCV"
   ]
  },
  {
   "cell_type": "code",
   "execution_count": 8,
   "id": "b124f20c",
   "metadata": {},
   "outputs": [],
   "source": [
    "from sklearn.metrics import mean_absolute_error"
   ]
  },
  {
   "cell_type": "code",
   "execution_count": 9,
   "id": "d2aceda8",
   "metadata": {},
   "outputs": [
    {
     "data": {
      "text/html": [
       "<div>\n",
       "<style scoped>\n",
       "    .dataframe tbody tr th:only-of-type {\n",
       "        vertical-align: middle;\n",
       "    }\n",
       "\n",
       "    .dataframe tbody tr th {\n",
       "        vertical-align: top;\n",
       "    }\n",
       "\n",
       "    .dataframe thead th {\n",
       "        text-align: right;\n",
       "    }\n",
       "</style>\n",
       "<table border=\"1\" class=\"dataframe\">\n",
       "  <thead>\n",
       "    <tr style=\"text-align: right;\">\n",
       "      <th></th>\n",
       "      <th>rely</th>\n",
       "      <th>data</th>\n",
       "      <th>cplx</th>\n",
       "      <th>time</th>\n",
       "      <th>stor</th>\n",
       "      <th>virt</th>\n",
       "      <th>turn</th>\n",
       "      <th>acap</th>\n",
       "      <th>aexp</th>\n",
       "      <th>pcap</th>\n",
       "      <th>vexp</th>\n",
       "      <th>lexp</th>\n",
       "      <th>modp</th>\n",
       "      <th>tool</th>\n",
       "      <th>sced</th>\n",
       "      <th>loc</th>\n",
       "      <th>actual</th>\n",
       "    </tr>\n",
       "  </thead>\n",
       "  <tbody>\n",
       "    <tr>\n",
       "      <th>0</th>\n",
       "      <td>0.88</td>\n",
       "      <td>1.16</td>\n",
       "      <td>0.70</td>\n",
       "      <td>1.0</td>\n",
       "      <td>1.06</td>\n",
       "      <td>1.15</td>\n",
       "      <td>1.07</td>\n",
       "      <td>1.19</td>\n",
       "      <td>1.13</td>\n",
       "      <td>1.17</td>\n",
       "      <td>1.1</td>\n",
       "      <td>1.00</td>\n",
       "      <td>1.24</td>\n",
       "      <td>1.10</td>\n",
       "      <td>1.04</td>\n",
       "      <td>113.0</td>\n",
       "      <td>2040.0</td>\n",
       "    </tr>\n",
       "    <tr>\n",
       "      <th>1</th>\n",
       "      <td>0.88</td>\n",
       "      <td>1.16</td>\n",
       "      <td>0.85</td>\n",
       "      <td>1.0</td>\n",
       "      <td>1.06</td>\n",
       "      <td>1.00</td>\n",
       "      <td>1.07</td>\n",
       "      <td>1.00</td>\n",
       "      <td>0.91</td>\n",
       "      <td>1.00</td>\n",
       "      <td>0.9</td>\n",
       "      <td>0.95</td>\n",
       "      <td>1.10</td>\n",
       "      <td>1.00</td>\n",
       "      <td>1.00</td>\n",
       "      <td>293.0</td>\n",
       "      <td>1600.0</td>\n",
       "    </tr>\n",
       "    <tr>\n",
       "      <th>2</th>\n",
       "      <td>1.00</td>\n",
       "      <td>1.16</td>\n",
       "      <td>0.85</td>\n",
       "      <td>1.0</td>\n",
       "      <td>1.00</td>\n",
       "      <td>0.87</td>\n",
       "      <td>0.94</td>\n",
       "      <td>0.86</td>\n",
       "      <td>0.82</td>\n",
       "      <td>0.86</td>\n",
       "      <td>0.9</td>\n",
       "      <td>0.95</td>\n",
       "      <td>0.91</td>\n",
       "      <td>0.91</td>\n",
       "      <td>1.00</td>\n",
       "      <td>132.0</td>\n",
       "      <td>243.0</td>\n",
       "    </tr>\n",
       "    <tr>\n",
       "      <th>3</th>\n",
       "      <td>0.75</td>\n",
       "      <td>1.16</td>\n",
       "      <td>0.70</td>\n",
       "      <td>1.0</td>\n",
       "      <td>1.00</td>\n",
       "      <td>0.87</td>\n",
       "      <td>1.00</td>\n",
       "      <td>1.19</td>\n",
       "      <td>0.91</td>\n",
       "      <td>1.42</td>\n",
       "      <td>1.0</td>\n",
       "      <td>0.95</td>\n",
       "      <td>1.24</td>\n",
       "      <td>1.00</td>\n",
       "      <td>1.04</td>\n",
       "      <td>60.0</td>\n",
       "      <td>240.0</td>\n",
       "    </tr>\n",
       "    <tr>\n",
       "      <th>4</th>\n",
       "      <td>0.88</td>\n",
       "      <td>0.94</td>\n",
       "      <td>1.00</td>\n",
       "      <td>1.0</td>\n",
       "      <td>1.00</td>\n",
       "      <td>0.87</td>\n",
       "      <td>1.00</td>\n",
       "      <td>1.00</td>\n",
       "      <td>1.00</td>\n",
       "      <td>0.86</td>\n",
       "      <td>0.9</td>\n",
       "      <td>0.95</td>\n",
       "      <td>1.24</td>\n",
       "      <td>1.00</td>\n",
       "      <td>1.00</td>\n",
       "      <td>16.0</td>\n",
       "      <td>33.0</td>\n",
       "    </tr>\n",
       "  </tbody>\n",
       "</table>\n",
       "</div>"
      ],
      "text/plain": [
       "   rely  data  cplx  time  stor  virt  turn  acap  aexp  pcap  vexp  lexp  \\\n",
       "0  0.88  1.16  0.70   1.0  1.06  1.15  1.07  1.19  1.13  1.17   1.1  1.00   \n",
       "1  0.88  1.16  0.85   1.0  1.06  1.00  1.07  1.00  0.91  1.00   0.9  0.95   \n",
       "2  1.00  1.16  0.85   1.0  1.00  0.87  0.94  0.86  0.82  0.86   0.9  0.95   \n",
       "3  0.75  1.16  0.70   1.0  1.00  0.87  1.00  1.19  0.91  1.42   1.0  0.95   \n",
       "4  0.88  0.94  1.00   1.0  1.00  0.87  1.00  1.00  1.00  0.86   0.9  0.95   \n",
       "\n",
       "   modp  tool  sced    loc  actual  \n",
       "0  1.24  1.10  1.04  113.0  2040.0  \n",
       "1  1.10  1.00  1.00  293.0  1600.0  \n",
       "2  0.91  0.91  1.00  132.0   243.0  \n",
       "3  1.24  1.00  1.04   60.0   240.0  \n",
       "4  1.24  1.00  1.00   16.0    33.0  "
      ]
     },
     "execution_count": 9,
     "metadata": {},
     "output_type": "execute_result"
    }
   ],
   "source": [
    "# Loading the data\n",
    "\n",
    "data = pd.read_csv('data/cocomo81.csv')\n",
    "data.head()"
   ]
  },
  {
   "cell_type": "code",
   "execution_count": 10,
   "id": "4e91fdfd",
   "metadata": {},
   "outputs": [
    {
     "data": {
      "text/plain": [
       "<AxesSubplot:>"
      ]
     },
     "execution_count": 10,
     "metadata": {},
     "output_type": "execute_result"
    },
    {
     "data": {
      "image/png": "[encoded data removed]",
      "text/plain": [
       "<Figure size 432x288 with 1 Axes>"
      ]
     },
     "metadata": {
      "needs_background": "light"
     },
     "output_type": "display_data"
    }
   ],
   "source": [
    "data['actual'].plot()"
   ]
  },
  {
   "cell_type": "markdown",
   "id": "1756d6c7",
   "metadata": {},
   "source": [
    "The effort multipliers are as follows:\n",
    "%\n",
    "%     increase | acap | analysts capability\n",
    "%     these to | pcap | programmers capability\n",
    "%    decrease  | aexp | application experience\n",
    "%      effort  | modp | modern programing practices\n",
    "%              | tool | use of  software tools\n",
    "%              | vexp | virtual machine experience\n",
    "%              | lexp | language experience\n",
    "%    ----------+------+---------------------------\n",
    "%              | sced | schedule constraint\n",
    "%    ----------+------+---------------------------\n",
    "%     decrease | stor | main memory constraint\n",
    "%     these to | data | data base size\n",
    "%     decrease | time | time constraint for cpu\n",
    "%       effort | turn | turnaround time\n",
    "%              | virt | machine volatility\n",
    "%              | cplx | process complexity\n",
    "%              | rely | required software reliability"
   ]
  },
  {
   "cell_type": "code",
   "execution_count": 11,
   "id": "17c077bc",
   "metadata": {},
   "outputs": [],
   "source": [
    "# Separating out features and labels\n",
    "\n",
    "X = data.loc[:, data.columns != 'actual']\n",
    "y = data[['actual']]"
   ]
  },
  {
   "cell_type": "code",
   "execution_count": 13,
   "id": "b253b20f",
   "metadata": {},
   "outputs": [],
   "source": [
    "# Train Test Split\n",
    "\n",
    "X_train, X_test, y_train, y_test = train_test_split(X, y, test_size=0.20, random_state=88)"
   ]
  },
  {
   "cell_type": "code",
   "execution_count": 14,
   "id": "8a222df7",
   "metadata": {},
   "outputs": [],
   "source": [
    "#list(X.index.values.astype(int))"
   ]
  },
  {
   "cell_type": "markdown",
   "id": "1b684f72",
   "metadata": {},
   "source": [
    "data_trained_y=scale_labels.inverse_transform(scaled_y)\n",
    "type(scale_labels.inverse_transform(scaled_y))"
   ]
  },
  {
   "cell_type": "code",
   "execution_count": 18,
   "id": "e0ff57dd",
   "metadata": {},
   "outputs": [
    {
     "data": {
      "text/plain": [
       "GridSearchCV(estimator=RandomForestRegressor(),\n",
       "             param_grid={'max_depth': [5, 10], 'min_samples_leaf': [1, 2, 4]},\n",
       "             scoring='r2')"
      ]
     },
     "execution_count": 18,
     "metadata": {},
     "output_type": "execute_result"
    }
   ],
   "source": [
    "rf = RandomForestRegressor()\n",
    "\n",
    "parameters = dict(max_depth=[5,10],\n",
    "                 min_samples_leaf=[1,2,4])\n",
    "search_tool= GridSearchCV(rf,parameters,scoring='r2')\n",
    "search_tool.fit(X_train, y_train['actual'])"
   ]
  },
  {
   "cell_type": "code",
   "execution_count": null,
   "id": "a70ad4d8",
   "metadata": {},
   "outputs": [],
   "source": []
  },
  {
   "cell_type": "code",
   "execution_count": 10,
   "id": "70e65739",
   "metadata": {},
   "outputs": [
    {
     "name": "stdout",
     "output_type": "stream",
     "text": [
      "Training mean_absolute_error:  0.024363620360208938\n",
      "Testing mean_absolute_error:  0.16343661094122877\n",
      "Training score R2:  0.821772200242446\n",
      "Testing score R2:  0.12604812139407462\n"
     ]
    }
   ],
   "source": [
    "y_train_pred = reg.predict(X_train)\n",
    "y_test_pred = reg.predict(X_test)\n",
    "print(\"Training mean_absolute_error: \", mean_absolute_error(y_train, y_train_pred))\n",
    "print(\"Testing mean_absolute_error: \", mean_absolute_error(y_test, y_test_pred))\n",
    "print(\"Training score R2: \", reg.score(X_train,y_train))\n",
    "print(\"Testing score R2: \", reg.score(X_test,y_test))\n"
   ]
  },
  {
   "cell_type": "markdown",
   "id": "7dcb0ef1",
   "metadata": {},
   "source": [
    "Regularization\n",
    "Introducing regularization to select important features\n",
    "\n",
    "Ridge\n",
    "LASSO\n",
    "One of the machine learning technique which is used for feature engineering.\n",
    "\n",
    "Ridge Regression\n",
    "L2 norm\n",
    "\n",
    "Regularization adds the penalty as model complexity increases. The regularization parameter (lambda) penalizes all the parameters except intercept so that the model generalizes the data and won’t overfit. Ridge regression adds “squared magnitude of the coefficient” as penalty term to the loss function. Here the box part in the above image represents the L2 regularization element/term."
   ]
  },
  {
   "cell_type": "code",
   "execution_count": 11,
   "id": "d235c6da",
   "metadata": {},
   "outputs": [
    {
     "name": "stdout",
     "output_type": "stream",
     "text": [
      "Training mean_absolute_error:  0.032199385946180686\n",
      "Testing mean_absolute_error:  0.13579414919046043\n",
      "Training score R2:  0.586658295251983\n",
      "Testing score R2:  0.19159600530213228\n"
     ]
    }
   ],
   "source": [
    "reg = Ridge(alpha=1)\n",
    "reg.fit(X_train, y_train)\n",
    "\n",
    "y_train_pred = reg.predict(X_train)\n",
    "y_test_pred = reg.predict(X_test)\n",
    "print(\"Training mean_absolute_error: \", mean_absolute_error(y_train, y_train_pred))\n",
    "print(\"Testing mean_absolute_error: \", mean_absolute_error(y_test, y_test_pred))\n",
    "print(\"Training score R2: \", reg.score(X_train,y_train))\n",
    "print(\"Testing score R2: \", reg.score(X_test,y_test))\n",
    "\n"
   ]
  },
  {
   "cell_type": "markdown",
   "id": "645a73f6",
   "metadata": {},
   "source": [
    "LASSO\n",
    "L1 norm"
   ]
  },
  {
   "cell_type": "code",
   "execution_count": 12,
   "id": "98565394",
   "metadata": {},
   "outputs": [
    {
     "name": "stdout",
     "output_type": "stream",
     "text": [
      "Training mean_absolute_error:  0.04189559948677943\n",
      "Testing mean_absolute_error:  0.14294782465433734\n"
     ]
    }
   ],
   "source": [
    "reg = Lasso(alpha=0.01)\n",
    "reg.fit(X_train, y_train)\n",
    "\n",
    "y_train_pred = reg.predict(X_train)\n",
    "y_test_pred = reg.predict(X_test)\n",
    "print(\"Training mean_absolute_error: \", mean_absolute_error(y_train, y_train_pred))\n",
    "print(\"Testing mean_absolute_error: \", mean_absolute_error(y_test, y_test_pred))\n",
    "\n"
   ]
  },
  {
   "cell_type": "code",
   "execution_count": null,
   "id": "f2827ae5",
   "metadata": {},
   "outputs": [],
   "source": []
  }
 ],
 "metadata": {
  "kernelspec": {
   "display_name": "Python 3 (ipykernel)",
   "language": "python",
   "name": "python3"
  },
  "language_info": {
   "codemirror_mode": {
    "name": "ipython",
    "version": 3
   },
   "file_extension": ".py",
   "mimetype": "text/x-python",
   "name": "python",
   "nbconvert_exporter": "python",
   "pygments_lexer": "ipython3",
   "version": "3.9.12"
  }
 },
 "nbformat": 4,
 "nbformat_minor": 5
}
